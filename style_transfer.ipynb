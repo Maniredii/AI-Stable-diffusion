{
 "cells": [
  {
   "cell_type": "code",
   "execution_count": null,
   "metadata": {
    "vscode": {
     "languageId": "plaintext"
    }
   },
   "outputs": [],
   "source": [
    "! pip install accelerate diffusers controlnet_aux"
   ]
  },
  {
   "cell_type": "code",
   "execution_count": null,
   "metadata": {
    "vscode": {
     "languageId": "plaintext"
    }
   },
   "outputs": [],
   "source": [
    "import torch\n",
    "from controlnet_aux import CannyDetector\n",
    "from diffusers import StableDiffusionControlNetPipeline, ControlNetModel\n",
    "from diffusers.utils import load_image,make_image_grid"
   ]
  },
  {
   "cell_type": "code",
   "execution_count": null,
   "metadata": {
    "vscode": {
     "languageId": "plaintext"
    }
   },
   "outputs": [],
   "source": [
    "controlnet = ControlNetModel.from_pretrained(\n",
    "    \"lllyasviel/sd-controlnet-canny\",\n",
    "    torch_dtype=torch.float16,\n",
    "    varient=\"fp16\")\n",
    "\n",
    "pipe = StableDiffusionControlNetPipeline.from_pretrained(\n",
    "    \"Yntec/AbsoluteReality\",\n",
    "    controlnet=controlnet,\n",
    "    torch_dtype=torch.float16)"
   ]
  },
  {
   "cell_type": "code",
   "execution_count": null,
   "metadata": {
    "vscode": {
     "languageId": "plaintext"
    }
   },
   "outputs": [],
   "source": [
    "pipe.load_ip_adapter(\"h94/IP-Adapter\",\n",
    "                     subfolder=\"models\",\n",
    "                     weight_name=\"ip-adapter_sd15.bin\")\n",
    "\n",
    "pipe.enable_model_cpu_offload()"
   ]
  },
  {
   "cell_type": "code",
   "execution_count": null,
   "metadata": {
    "vscode": {
     "languageId": "plaintext"
    }
   },
   "outputs": [],
   "source": [
    "from google.colab import files\n",
    "files.upload()\n",
    "\n",
    "print(\"upload is done\")"
   ]
  },
  {
   "cell_type": "code",
   "execution_count": null,
   "metadata": {
    "vscode": {
     "languageId": "plaintext"
    }
   },
   "outputs": [],
   "source": [
    "img = load_image(\"2024-miyazaki-hayao.jpg\")\n",
    "img"
   ]
  },
  {
   "cell_type": "code",
   "execution_count": null,
   "metadata": {
    "vscode": {
     "languageId": "plaintext"
    }
   },
   "outputs": [],
   "source": [
    "ip_adap_img = load_image(\"style_input.jpg\")\n",
    "\n",
    "ip_adap_img"
   ]
  },
  {
   "cell_type": "code",
   "execution_count": null,
   "metadata": {
    "vscode": {
     "languageId": "plaintext"
    }
   },
   "outputs": [],
   "source": [
    "canny = CannyDetector()\n",
    "canny_img = canny(img,detect_resolution=512,image_resolution=768)\n",
    "canny_img"
   ]
  },
  {
   "cell_type": "code",
   "execution_count": null,
   "metadata": {
    "vscode": {
     "languageId": "plaintext"
    }
   },
   "outputs": [],
   "source": [
    "prompt = \"\"\"\n",
    "(photorealistic:1.2), raw, masterpiece, high quality,\n",
    "8k, anime style, ghibli-like, white hair,white beard\"\"\"\n",
    "\n",
    "pipe.set_ip_adapter_scale(0.5)\n",
    "\n",
    "images = pipe(prompt = prompt,\n",
    "              negative_prompt = \"low quality\",\n",
    "              height = 768,\n",
    "              width = 768,\n",
    "              ip_adapter_image = ip_adap_img,\n",
    "              image = canny_img,\n",
    "              guidance_scale = 6,\n",
    "              controlnet_conditioning_scale = 0.7,\n",
    "              num_inference_steps = 20,\n",
    "              num_images_per_prompt = 3).images"
   ]
  },
  {
   "cell_type": "code",
   "execution_count": null,
   "metadata": {
    "vscode": {
     "languageId": "plaintext"
    }
   },
   "outputs": [],
   "source": [
    "make_image_grid(images,cols=3,rows=1)"
   ]
  }
 ],
 "metadata": {
  "language_info": {
   "name": "python"
  }
 },
 "nbformat": 4,
 "nbformat_minor": 2
}
